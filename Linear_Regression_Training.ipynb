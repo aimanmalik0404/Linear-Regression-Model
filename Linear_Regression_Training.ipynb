{
  "nbformat": 4,
  "nbformat_minor": 0,
  "metadata": {
    "colab": {
      "provenance": [],
      "authorship_tag": "ABX9TyNhrKFrs5aDamN13+lbLT0A",
      "include_colab_link": true
    },
    "kernelspec": {
      "name": "python3",
      "display_name": "Python 3"
    },
    "language_info": {
      "name": "python"
    }
  },
  "cells": [
    {
      "cell_type": "markdown",
      "metadata": {
        "id": "view-in-github",
        "colab_type": "text"
      },
      "source": [
        "<a href=\"https://colab.research.google.com/github/aimanmalik0404/Linear-Regression-Model/blob/main/Linear_Regression_Training.ipynb\" target=\"_parent\"><img src=\"https://colab.research.google.com/assets/colab-badge.svg\" alt=\"Open In Colab\"/></a>"
      ]
    },
    {
      "cell_type": "code",
      "execution_count": 1,
      "metadata": {
        "colab": {
          "base_uri": "https://localhost:8080/"
        },
        "id": "eGpEQm2m7M9W",
        "outputId": "34e7d897-97db-4f52-dfd2-30c363e7c9b3"
      },
      "outputs": [
        {
          "output_type": "stream",
          "name": "stdout",
          "text": [
            "✅ Libraries imported successfully!\n"
          ]
        }
      ],
      "source": [
        "try:\n",
        "    import numpy as np\n",
        "    import pandas as pd\n",
        "    from sklearn.linear_model import LinearRegression\n",
        "\n",
        "    print(\"✅ Libraries imported successfully!\")\n",
        "except Exception as e:\n",
        "    print(f\"❌ Error importing libraries: {e}\")\n"
      ]
    },
    {
      "cell_type": "code",
      "source": [
        "try:\n",
        "    # Simple dataset: X = feature, y = target\n",
        "    X = np.array([[1], [2], [3], [4], [5]])\n",
        "    y = np.array([2, 4, 6, 8, 10])\n",
        "\n",
        "    print(\"✅ Data created successfully!\")\n",
        "except Exception as e:\n",
        "    print(f\"❌ Error creating data: {e}\")\n"
      ],
      "metadata": {
        "colab": {
          "base_uri": "https://localhost:8080/"
        },
        "id": "ARyxhVf3MrXl",
        "outputId": "3fc340df-2bda-4de9-d6a3-6e88c8c371b6"
      },
      "execution_count": 2,
      "outputs": [
        {
          "output_type": "stream",
          "name": "stdout",
          "text": [
            "✅ Data created successfully!\n"
          ]
        }
      ]
    },
    {
      "cell_type": "code",
      "source": [
        "try:\n",
        "    model = LinearRegression()\n",
        "    model.fit(X, y)\n",
        "    print(\"✅ Model trained successfully!\")\n",
        "    print(f\"θ0 (Intercept): {model.intercept_}\")\n",
        "    print(f\"θ1 (Coefficient): {model.coef_[0]}\")\n",
        "except Exception as e:\n",
        "    print(f\"❌ Error during training: {e}\")\n"
      ],
      "metadata": {
        "colab": {
          "base_uri": "https://localhost:8080/"
        },
        "id": "xFrDTBHgNw1i",
        "outputId": "9206a315-76b9-4b06-ec0a-950607aec0df"
      },
      "execution_count": 3,
      "outputs": [
        {
          "output_type": "stream",
          "name": "stdout",
          "text": [
            "✅ Model trained successfully!\n",
            "θ0 (Intercept): 0.0\n",
            "θ1 (Coefficient): 2.0\n"
          ]
        }
      ]
    },
    {
      "cell_type": "code",
      "source": [
        "# Assuming 'model' is already trained\n",
        "\n",
        "try:\n",
        "    # Example: Ask for input from user\n",
        "    x_value = float(input(\"Enter a value for X: \"))\n",
        "\n",
        "    # Reshape because sklearn expects 2D array for prediction\n",
        "    x_array = [[x_value]]\n",
        "\n",
        "    # Predict using trained model\n",
        "    y_pred = model.predict(x_array)\n",
        "\n",
        "    print(f\"✅ Prediction for X = {x_value} is Y = {y_pred[0]}\")\n",
        "\n",
        "except Exception as e:\n",
        "    print(f\"❌ Error during prediction: {e}\")\n"
      ],
      "metadata": {
        "colab": {
          "base_uri": "https://localhost:8080/"
        },
        "id": "r4FgXDSzQsF5",
        "outputId": "3f82b5f5-a809-4d9c-a79c-6ee4f6ccf3c8"
      },
      "execution_count": 4,
      "outputs": [
        {
          "output_type": "stream",
          "name": "stdout",
          "text": [
            "Enter a value for X: 5\n",
            "✅ Prediction for X = 5.0 is Y = 10.0\n"
          ]
        }
      ]
    }
  ]
}