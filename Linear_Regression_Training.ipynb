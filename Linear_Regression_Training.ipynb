{
  "nbformat": 4,
  "nbformat_minor": 0,
  "metadata": {
    "colab": {
      "provenance": [],
      "authorship_tag": "ABX9TyOTvtlyY5SPZMTyMHH5CgeA",
      "include_colab_link": true
    },
    "kernelspec": {
      "name": "python3",
      "display_name": "Python 3"
    },
    "language_info": {
      "name": "python"
    }
  },
  "cells": [
    {
      "cell_type": "markdown",
      "metadata": {
        "id": "view-in-github",
        "colab_type": "text"
      },
      "source": [
        "<a href=\"https://colab.research.google.com/github/aimanmalik0404/Linear-Regression-Model/blob/main/Linear_Regression_Training.ipynb\" target=\"_parent\"><img src=\"https://colab.research.google.com/assets/colab-badge.svg\" alt=\"Open In Colab\"/></a>"
      ]
    },
    {
      "cell_type": "code",
      "execution_count": 1,
      "metadata": {
        "colab": {
          "base_uri": "https://localhost:8080/"
        },
        "id": "eGpEQm2m7M9W",
        "outputId": "34e7d897-97db-4f52-dfd2-30c363e7c9b3"
      },
      "outputs": [
        {
          "output_type": "stream",
          "name": "stdout",
          "text": [
            "✅ Libraries imported successfully!\n"
          ]
        }
      ],
      "source": [
        "try:\n",
        "    import numpy as np\n",
        "    import pandas as pd\n",
        "    from sklearn.linear_model import LinearRegression\n",
        "\n",
        "    print(\"✅ Libraries imported successfully!\")\n",
        "except Exception as e:\n",
        "    print(f\"❌ Error importing libraries: {e}\")\n"
      ]
    },
    {
      "cell_type": "code",
      "source": [
        "try:\n",
        "    # Simple dataset: X = feature, y = target\n",
        "    X = np.array([[1], [2], [3], [4], [5]])\n",
        "    y = np.array([2, 4, 6, 8, 10])\n",
        "\n",
        "    print(\"✅ Data created successfully!\")\n",
        "except Exception as e:\n",
        "    print(f\"❌ Error creating data: {e}\")\n"
      ],
      "metadata": {
        "colab": {
          "base_uri": "https://localhost:8080/"
        },
        "id": "ARyxhVf3MrXl",
        "outputId": "3fc340df-2bda-4de9-d6a3-6e88c8c371b6"
      },
      "execution_count": 2,
      "outputs": [
        {
          "output_type": "stream",
          "name": "stdout",
          "text": [
            "✅ Data created successfully!\n"
          ]
        }
      ]
    },
    {
      "cell_type": "code",
      "source": [
        "try:\n",
        "    model = LinearRegression()\n",
        "    model.fit(X, y)\n",
        "    print(\"✅ Model trained successfully!\")\n",
        "    print(f\"θ0 (Intercept): {model.intercept_}\")\n",
        "    print(f\"θ1 (Coefficient): {model.coef_[0]}\")\n",
        "except Exception as e:\n",
        "    print(f\"❌ Error during training: {e}\")\n"
      ],
      "metadata": {
        "colab": {
          "base_uri": "https://localhost:8080/"
        },
        "id": "xFrDTBHgNw1i",
        "outputId": "9206a315-76b9-4b06-ec0a-950607aec0df"
      },
      "execution_count": 3,
      "outputs": [
        {
          "output_type": "stream",
          "name": "stdout",
          "text": [
            "✅ Model trained successfully!\n",
            "θ0 (Intercept): 0.0\n",
            "θ1 (Coefficient): 2.0\n"
          ]
        }
      ]
    },
    {
      "cell_type": "code",
      "source": [
        "# Assuming 'model' is already trained\n",
        "\n",
        "try:\n",
        "    # Example: Ask for input from user\n",
        "    x_value = float(input(\"Enter a value for X: \"))\n",
        "\n",
        "    # Reshape because sklearn expects 2D array for prediction\n",
        "    x_array = [[x_value]]\n",
        "\n",
        "    # Predict using trained model\n",
        "    y_pred = model.predict(x_array)\n",
        "\n",
        "    print(f\"✅ Prediction for X = {x_value} is Y = {y_pred[0]}\")\n",
        "\n",
        "except Exception as e:\n",
        "    print(f\"❌ Error during prediction: {e}\")\n"
      ],
      "metadata": {
        "colab": {
          "base_uri": "https://localhost:8080/"
        },
        "id": "r4FgXDSzQsF5",
        "outputId": "3f82b5f5-a809-4d9c-a79c-6ee4f6ccf3c8"
      },
      "execution_count": 4,
      "outputs": [
        {
          "output_type": "stream",
          "name": "stdout",
          "text": [
            "Enter a value for X: 5\n",
            "✅ Prediction for X = 5.0 is Y = 10.0\n"
          ]
        }
      ]
    },
    {
      "cell_type": "markdown",
      "source": [
        "Implement initial model training without scikit-learn"
      ],
      "metadata": {
        "id": "aZj1vVpwfcTx"
      }
    },
    {
      "cell_type": "code",
      "source": [
        "import numpy as np\n",
        "\n",
        "# -----------------------------\n",
        "# Step 1: Dataset\n",
        "# -----------------------------\n",
        "X = np.array([1, 2, 3, 4, 5])\n",
        "y = np.array([2, 4, 6, 8, 10])\n",
        "m_samples = len(X)\n",
        "\n",
        "# -----------------------------\n",
        "# Step 2: Initialize parameters\n",
        "# -----------------------------\n",
        "theta_0 = 0  # Intercept\n",
        "theta_1 = 0  # Slope\n",
        "alpha = 0.01 # Learning rate\n",
        "iterations = 1000\n",
        "\n",
        "# -----------------------------\n",
        "# Step 3: Gradient Descent Loop\n",
        "# -----------------------------\n",
        "for _ in range(iterations):\n",
        "    # Hypothesis function h_theta(x)\n",
        "    y_pred = theta_0 + theta_1 * X\n",
        "\n",
        "    # Errors\n",
        "    error = y_pred - y\n",
        "\n",
        "    # Gradients (derivatives of cost w.r.t parameters)\n",
        "    d_theta0 = (1/m_samples) * np.sum(error)      # ?/??0 J(?)\n",
        "    d_theta1 = (1/m_samples) * np.sum(error * X)  # ?/??1 J(?)\n",
        "\n",
        "    # Update parameters using update rule\n",
        "    theta_0 -= alpha * d_theta0\n",
        "    theta_1 -= alpha * d_theta1\n",
        "\n",
        "# -----------------------------\n",
        "# Step 4: Final Parameters\n",
        "# -----------------------------\n",
        "print(f\"Final ?0 (intercept): {theta_0}\")\n",
        "print(f\"Final ?1 (slope): {theta_1}\")\n",
        "\n",
        "# -----------------------------\n",
        "# Step 5: Prediction\n",
        "# -----------------------------\n",
        "x_value = float(input(\"Enter a value for X: \"))\n",
        "y_prediction = theta_0 + theta_1 * x_value\n",
        "print(f\"Prediction for X = {x_value} is Y = {y_prediction}\")"
      ],
      "metadata": {
        "colab": {
          "base_uri": "https://localhost:8080/"
        },
        "id": "t9-orNLXfrcK",
        "outputId": "dd9e5bd5-3a41-4ead-e70d-43da15dcd475"
      },
      "execution_count": 6,
      "outputs": [
        {
          "output_type": "stream",
          "name": "stdout",
          "text": [
            "Final ?0 (intercept): 0.09475321533750963\n",
            "Final ?1 (slope): 1.9737548787242036\n",
            "Enter a value for X: 5\n",
            "Prediction for X = 5.0 is Y = 9.963527608958529\n"
          ]
        }
      ]
    }
  ]
}